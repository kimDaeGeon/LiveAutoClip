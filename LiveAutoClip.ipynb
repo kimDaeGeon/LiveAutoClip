{
 "metadata": {
  "language_info": {
   "codemirror_mode": {
    "name": "ipython",
    "version": 3
   },
   "file_extension": ".py",
   "mimetype": "text/x-python",
   "name": "python",
   "nbconvert_exporter": "python",
   "pygments_lexer": "ipython3",
   "version": "3.7.4-final"
  },
  "orig_nbformat": 2,
  "kernelspec": {
   "name": "Python 3.7.4 64-bit ('base')",
   "display_name": "Python 3.7.4 64-bit ('base')",
   "metadata": {
    "interpreter": {
     "hash": "140334c455722232b21ee53b4d6438619e6f24aeb7d8720b262bad8d4b0bab56"
    }
   }
  }
 },
 "nbformat": 4,
 "nbformat_minor": 2,
 "cells": [
  {
   "source": [
    "# Twitch API Request Test\n",
    "---\n",
    "Twitch API Docs : [Twitch Developers] (https://dev.twitch.tv/docs/v5) <br>\n",
    "Twitch API Client : [Twitch Developers Console] (https://dev.twitch.tv/console/apps) <br>\n",
    "Twitch API Video Obj : [Twitch API Video Reference] (https://dev.twitch.tv/docs/api/reference#get-videos) <br>\n",
    "Test Live Video : [PAKA 11/03 Broadcast](https://www.twitch.tv/videos/790636820) "
   ],
   "cell_type": "markdown",
   "metadata": {}
  },
  {
   "cell_type": "code",
   "execution_count": 1,
   "metadata": {},
   "outputs": [],
   "source": [
    "import requests\n",
    "import json\n",
    "import sys"
   ]
  },
  {
   "cell_type": "code",
   "execution_count": 2,
   "metadata": {},
   "outputs": [],
   "source": [
    "videoID = \"790636820\"\n",
    "clientID = \"k8tbrzzuqt746l6zq8wqdbcad06tb0\"\n",
    "\n",
    "params = dict({\"client_id\":clientID})"
   ]
  },
  {
   "cell_type": "code",
   "execution_count": 3,
   "metadata": {},
   "outputs": [],
   "source": [
    "fileHandler = open(\"Paka1103.txt\", \"wt\", encoding=\"utf-8\")"
   ]
  },
  {
   "cell_type": "code",
   "execution_count": 4,
   "metadata": {},
   "outputs": [],
   "source": [
    "time = list()\n",
    "user = list()\n",
    "chat = list()\n",
    "\n",
    "i = 0\n",
    "while True:\n",
    "    if i == 0:\n",
    "        URL = 'https://api.twitch.tv/v5/videos/' + videoID + '/comments?content_offset_seconds=0'\n",
    "        i += 1\n",
    "    else:\n",
    "        URL = 'https://api.twitch.tv/v5/videos/' + videoID + '/comments?cursor='\n",
    "        URL += nextCursor\n",
    "\n",
    "    response = requests.get(URL, params=params)\n",
    "\n",
    "    data = json.loads(response.text)\n",
    "    \n",
    "    # append in list\n",
    "    for idx in range(len(data[\"comments\"])):\n",
    "        Time = data[\"comments\"][idx][\"created_at\"][11:19]\n",
    "        User = data[\"comments\"][idx][\"commenter\"][\"display_name\"]\n",
    "        Chat = data[\"comments\"][idx][\"message\"][\"body\"]\n",
    "        \n",
    "        #print(Time, User, Chat)\n",
    "        time.append(Time)\n",
    "        user.append(User)\n",
    "        chat.append(Chat)\n",
    "    \n",
    "    if \"_next\" not in data.keys():\n",
    "        break\n",
    "        \n",
    "    nextCursor = data[\"_next\"]"
   ]
  },
  {
   "cell_type": "code",
   "execution_count": null,
   "metadata": {},
   "outputs": [],
   "source": []
  }
 ]
}